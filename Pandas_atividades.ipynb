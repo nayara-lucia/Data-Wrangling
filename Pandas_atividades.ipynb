{
 "cells": [
  {
   "cell_type": "code",
   "execution_count": 179,
   "metadata": {
    "id": "SgyliYAfC5iZ"
   },
   "outputs": [],
   "source": [
    "import pandas as pd\n",
    "import numpy as np"
   ]
  },
  {
   "cell_type": "markdown",
   "metadata": {
    "id": "OnDUKrRQDCW0"
   },
   "source": [
    "# Dataframe e ordenação\n",
    "\n",
    "**Utilizando o arquivo: carros.csv**\n",
    "\n",
    "1. Faça o upload do CSV carros.csv\n",
    "2. Print seu head com 10 linhas\n",
    "3. Agora print as colunas e index do dataframe\n",
    "4. Faça um sort decrescente no dataframe pelo estado com maior quantidade de carros\n",
    "5. Descubra qual a proporção de carro para a população de cada estado e insira em uma nova coluna\n",
    "6. Faça um dataframe com Estado e proporção de carro por habitante"
   ]
  },
  {
   "cell_type": "code",
   "execution_count": 32,
   "metadata": {
    "id": "WZFMmO6ZDDpb"
   },
   "outputs": [
    {
     "data": {
      "text/html": [
       "<div>\n",
       "<style scoped>\n",
       "    .dataframe tbody tr th:only-of-type {\n",
       "        vertical-align: middle;\n",
       "    }\n",
       "\n",
       "    .dataframe tbody tr th {\n",
       "        vertical-align: top;\n",
       "    }\n",
       "\n",
       "    .dataframe thead th {\n",
       "        text-align: right;\n",
       "    }\n",
       "</style>\n",
       "<table border=\"1\" class=\"dataframe\">\n",
       "  <thead>\n",
       "    <tr style=\"text-align: right;\">\n",
       "      <th></th>\n",
       "      <th>Região</th>\n",
       "      <th>Estado</th>\n",
       "      <th>Quant Carros</th>\n",
       "      <th>Quant Carros Família com Filhos</th>\n",
       "      <th>População do Estado</th>\n",
       "      <th>Carros por habitante</th>\n",
       "    </tr>\n",
       "  </thead>\n",
       "  <tbody>\n",
       "    <tr>\n",
       "      <th>0</th>\n",
       "      <td>Sul</td>\n",
       "      <td>Acre</td>\n",
       "      <td>4342</td>\n",
       "      <td>1034</td>\n",
       "      <td>23942.0</td>\n",
       "      <td>0.181355</td>\n",
       "    </tr>\n",
       "    <tr>\n",
       "      <th>1</th>\n",
       "      <td>Centro-Oeste</td>\n",
       "      <td>Alagoas</td>\n",
       "      <td>18991</td>\n",
       "      <td>3253</td>\n",
       "      <td>23431.0</td>\n",
       "      <td>0.810507</td>\n",
       "    </tr>\n",
       "    <tr>\n",
       "      <th>2</th>\n",
       "      <td>Sudeste</td>\n",
       "      <td>Amapá</td>\n",
       "      <td>6463</td>\n",
       "      <td>4152</td>\n",
       "      <td>7747.0</td>\n",
       "      <td>0.834258</td>\n",
       "    </tr>\n",
       "  </tbody>\n",
       "</table>\n",
       "</div>"
      ],
      "text/plain": [
       "         Região   Estado  Quant Carros  Quant Carros Família com Filhos  \\\n",
       "0           Sul     Acre          4342                             1034   \n",
       "1  Centro-Oeste  Alagoas         18991                             3253   \n",
       "2       Sudeste    Amapá          6463                             4152   \n",
       "\n",
       "   População do Estado  Carros por habitante  \n",
       "0              23942.0              0.181355  \n",
       "1              23431.0              0.810507  \n",
       "2               7747.0              0.834258  "
      ]
     },
     "execution_count": 32,
     "metadata": {},
     "output_type": "execute_result"
    }
   ],
   "source": [
    "df_carros = pd.read_csv('carros.csv')\n",
    "df_carros.head(3)"
   ]
  },
  {
   "cell_type": "code",
   "execution_count": 33,
   "metadata": {},
   "outputs": [],
   "source": [
    "df_carros.drop(['Carros por habitante'], axis=1, inplace=True)"
   ]
  },
  {
   "cell_type": "code",
   "execution_count": 34,
   "metadata": {},
   "outputs": [
    {
     "data": {
      "text/html": [
       "<div>\n",
       "<style scoped>\n",
       "    .dataframe tbody tr th:only-of-type {\n",
       "        vertical-align: middle;\n",
       "    }\n",
       "\n",
       "    .dataframe tbody tr th {\n",
       "        vertical-align: top;\n",
       "    }\n",
       "\n",
       "    .dataframe thead th {\n",
       "        text-align: right;\n",
       "    }\n",
       "</style>\n",
       "<table border=\"1\" class=\"dataframe\">\n",
       "  <thead>\n",
       "    <tr style=\"text-align: right;\">\n",
       "      <th></th>\n",
       "      <th>Região</th>\n",
       "      <th>Estado</th>\n",
       "      <th>Quant Carros</th>\n",
       "      <th>Quant Carros Família com Filhos</th>\n",
       "      <th>População do Estado</th>\n",
       "    </tr>\n",
       "  </thead>\n",
       "  <tbody>\n",
       "    <tr>\n",
       "      <th>0</th>\n",
       "      <td>Sul</td>\n",
       "      <td>Acre</td>\n",
       "      <td>4342</td>\n",
       "      <td>1034</td>\n",
       "      <td>23942.0</td>\n",
       "    </tr>\n",
       "    <tr>\n",
       "      <th>1</th>\n",
       "      <td>Centro-Oeste</td>\n",
       "      <td>Alagoas</td>\n",
       "      <td>18991</td>\n",
       "      <td>3253</td>\n",
       "      <td>23431.0</td>\n",
       "    </tr>\n",
       "    <tr>\n",
       "      <th>2</th>\n",
       "      <td>Sudeste</td>\n",
       "      <td>Amapá</td>\n",
       "      <td>6463</td>\n",
       "      <td>4152</td>\n",
       "      <td>7747.0</td>\n",
       "    </tr>\n",
       "  </tbody>\n",
       "</table>\n",
       "</div>"
      ],
      "text/plain": [
       "         Região   Estado  Quant Carros  Quant Carros Família com Filhos  \\\n",
       "0           Sul     Acre          4342                             1034   \n",
       "1  Centro-Oeste  Alagoas         18991                             3253   \n",
       "2       Sudeste    Amapá          6463                             4152   \n",
       "\n",
       "   População do Estado  \n",
       "0              23942.0  \n",
       "1              23431.0  \n",
       "2               7747.0  "
      ]
     },
     "execution_count": 34,
     "metadata": {},
     "output_type": "execute_result"
    }
   ],
   "source": [
    "df_carros.head(3)"
   ]
  },
  {
   "cell_type": "code",
   "execution_count": 35,
   "metadata": {},
   "outputs": [
    {
     "data": {
      "text/plain": [
       "RangeIndex(start=0, stop=27, step=1)"
      ]
     },
     "execution_count": 35,
     "metadata": {},
     "output_type": "execute_result"
    }
   ],
   "source": [
    "df_carros.index"
   ]
  },
  {
   "cell_type": "code",
   "execution_count": 36,
   "metadata": {},
   "outputs": [
    {
     "data": {
      "text/plain": [
       "Index(['Região', 'Estado', 'Quant Carros', 'Quant Carros Família com Filhos',\n",
       "       'População do Estado'],\n",
       "      dtype='object')"
      ]
     },
     "execution_count": 36,
     "metadata": {},
     "output_type": "execute_result"
    }
   ],
   "source": [
    "df_carros.columns"
   ]
  },
  {
   "cell_type": "code",
   "execution_count": 37,
   "metadata": {},
   "outputs": [
    {
     "data": {
      "text/html": [
       "<div>\n",
       "<style scoped>\n",
       "    .dataframe tbody tr th:only-of-type {\n",
       "        vertical-align: middle;\n",
       "    }\n",
       "\n",
       "    .dataframe tbody tr th {\n",
       "        vertical-align: top;\n",
       "    }\n",
       "\n",
       "    .dataframe thead th {\n",
       "        text-align: right;\n",
       "    }\n",
       "</style>\n",
       "<table border=\"1\" class=\"dataframe\">\n",
       "  <thead>\n",
       "    <tr style=\"text-align: right;\">\n",
       "      <th></th>\n",
       "      <th>Estado</th>\n",
       "      <th>Quant Carros</th>\n",
       "    </tr>\n",
       "  </thead>\n",
       "  <tbody>\n",
       "    <tr>\n",
       "      <th>18</th>\n",
       "      <td>Rio de Janeiro</td>\n",
       "      <td>33848</td>\n",
       "    </tr>\n",
       "    <tr>\n",
       "      <th>8</th>\n",
       "      <td>Goiás</td>\n",
       "      <td>24412</td>\n",
       "    </tr>\n",
       "    <tr>\n",
       "      <th>21</th>\n",
       "      <td>Rondônia</td>\n",
       "      <td>23113</td>\n",
       "    </tr>\n",
       "    <tr>\n",
       "      <th>13</th>\n",
       "      <td>Pará</td>\n",
       "      <td>22387</td>\n",
       "    </tr>\n",
       "    <tr>\n",
       "      <th>25</th>\n",
       "      <td>Sergipe</td>\n",
       "      <td>22307</td>\n",
       "    </tr>\n",
       "  </tbody>\n",
       "</table>\n",
       "</div>"
      ],
      "text/plain": [
       "            Estado  Quant Carros\n",
       "18  Rio de Janeiro         33848\n",
       "8            Goiás         24412\n",
       "21        Rondônia         23113\n",
       "13            Pará         22387\n",
       "25         Sergipe         22307"
      ]
     },
     "execution_count": 37,
     "metadata": {},
     "output_type": "execute_result"
    }
   ],
   "source": [
    "df_carros[['Estado','Quant Carros']].sort_values('Quant Carros', ascending=False).head(5)"
   ]
  },
  {
   "cell_type": "code",
   "execution_count": 40,
   "metadata": {},
   "outputs": [],
   "source": [
    "proporcao = df_carros['Quant Carros']/df_carros['População do Estado']"
   ]
  },
  {
   "cell_type": "code",
   "execution_count": 41,
   "metadata": {},
   "outputs": [
    {
     "data": {
      "text/html": [
       "<div>\n",
       "<style scoped>\n",
       "    .dataframe tbody tr th:only-of-type {\n",
       "        vertical-align: middle;\n",
       "    }\n",
       "\n",
       "    .dataframe tbody tr th {\n",
       "        vertical-align: top;\n",
       "    }\n",
       "\n",
       "    .dataframe thead th {\n",
       "        text-align: right;\n",
       "    }\n",
       "</style>\n",
       "<table border=\"1\" class=\"dataframe\">\n",
       "  <thead>\n",
       "    <tr style=\"text-align: right;\">\n",
       "      <th></th>\n",
       "      <th>Região</th>\n",
       "      <th>Estado</th>\n",
       "      <th>Quant Carros</th>\n",
       "      <th>Quant Carros Família com Filhos</th>\n",
       "      <th>População do Estado</th>\n",
       "      <th>Proporção de carros por habitantes</th>\n",
       "    </tr>\n",
       "  </thead>\n",
       "  <tbody>\n",
       "    <tr>\n",
       "      <th>0</th>\n",
       "      <td>Sul</td>\n",
       "      <td>Acre</td>\n",
       "      <td>4342</td>\n",
       "      <td>1034</td>\n",
       "      <td>23942.0</td>\n",
       "      <td>0.181355</td>\n",
       "    </tr>\n",
       "    <tr>\n",
       "      <th>1</th>\n",
       "      <td>Centro-Oeste</td>\n",
       "      <td>Alagoas</td>\n",
       "      <td>18991</td>\n",
       "      <td>3253</td>\n",
       "      <td>23431.0</td>\n",
       "      <td>0.810507</td>\n",
       "    </tr>\n",
       "    <tr>\n",
       "      <th>2</th>\n",
       "      <td>Sudeste</td>\n",
       "      <td>Amapá</td>\n",
       "      <td>6463</td>\n",
       "      <td>4152</td>\n",
       "      <td>7747.0</td>\n",
       "      <td>0.834258</td>\n",
       "    </tr>\n",
       "    <tr>\n",
       "      <th>3</th>\n",
       "      <td>Centro-Oeste</td>\n",
       "      <td>Amazonas</td>\n",
       "      <td>3180</td>\n",
       "      <td>2955</td>\n",
       "      <td>5189.0</td>\n",
       "      <td>0.612835</td>\n",
       "    </tr>\n",
       "    <tr>\n",
       "      <th>4</th>\n",
       "      <td>Centro-Oeste</td>\n",
       "      <td>Bahia</td>\n",
       "      <td>11288</td>\n",
       "      <td>2585</td>\n",
       "      <td>24118.0</td>\n",
       "      <td>0.468032</td>\n",
       "    </tr>\n",
       "  </tbody>\n",
       "</table>\n",
       "</div>"
      ],
      "text/plain": [
       "         Região    Estado  Quant Carros  Quant Carros Família com Filhos  \\\n",
       "0           Sul      Acre          4342                             1034   \n",
       "1  Centro-Oeste   Alagoas         18991                             3253   \n",
       "2       Sudeste     Amapá          6463                             4152   \n",
       "3  Centro-Oeste  Amazonas          3180                             2955   \n",
       "4  Centro-Oeste     Bahia         11288                             2585   \n",
       "\n",
       "   População do Estado  Proporção de carros por habitantes  \n",
       "0              23942.0                            0.181355  \n",
       "1              23431.0                            0.810507  \n",
       "2               7747.0                            0.834258  \n",
       "3               5189.0                            0.612835  \n",
       "4              24118.0                            0.468032  "
      ]
     },
     "execution_count": 41,
     "metadata": {},
     "output_type": "execute_result"
    }
   ],
   "source": [
    "df_carros['Proporção de carros por habitantes'] = proporcao\n",
    "df_carros.head(5)"
   ]
  },
  {
   "cell_type": "code",
   "execution_count": 46,
   "metadata": {},
   "outputs": [],
   "source": [
    "# Faça um dataframe com Estado e proporção de carro por habitante\n",
    "\n",
    "df_estado_propor = df_carros[['Estado','Proporção de carros por habitantes']]"
   ]
  },
  {
   "cell_type": "code",
   "execution_count": 48,
   "metadata": {},
   "outputs": [],
   "source": [
    "df_estado_propor = df_estado_propor.sort_values('Proporção de carros por habitantes', ascending=False)"
   ]
  },
  {
   "cell_type": "code",
   "execution_count": 49,
   "metadata": {},
   "outputs": [
    {
     "data": {
      "text/html": [
       "<div>\n",
       "<style scoped>\n",
       "    .dataframe tbody tr th:only-of-type {\n",
       "        vertical-align: middle;\n",
       "    }\n",
       "\n",
       "    .dataframe tbody tr th {\n",
       "        vertical-align: top;\n",
       "    }\n",
       "\n",
       "    .dataframe thead th {\n",
       "        text-align: right;\n",
       "    }\n",
       "</style>\n",
       "<table border=\"1\" class=\"dataframe\">\n",
       "  <thead>\n",
       "    <tr style=\"text-align: right;\">\n",
       "      <th></th>\n",
       "      <th>Estado</th>\n",
       "      <th>Proporção de carros por habitantes</th>\n",
       "    </tr>\n",
       "  </thead>\n",
       "  <tbody>\n",
       "    <tr>\n",
       "      <th>7</th>\n",
       "      <td>Espírito Santo</td>\n",
       "      <td>0.876655</td>\n",
       "    </tr>\n",
       "    <tr>\n",
       "      <th>6</th>\n",
       "      <td>Distrito Federal</td>\n",
       "      <td>0.838672</td>\n",
       "    </tr>\n",
       "    <tr>\n",
       "      <th>2</th>\n",
       "      <td>Amapá</td>\n",
       "      <td>0.834258</td>\n",
       "    </tr>\n",
       "    <tr>\n",
       "      <th>24</th>\n",
       "      <td>São Paulo</td>\n",
       "      <td>0.829874</td>\n",
       "    </tr>\n",
       "    <tr>\n",
       "      <th>1</th>\n",
       "      <td>Alagoas</td>\n",
       "      <td>0.810507</td>\n",
       "    </tr>\n",
       "    <tr>\n",
       "      <th>25</th>\n",
       "      <td>Sergipe</td>\n",
       "      <td>0.783169</td>\n",
       "    </tr>\n",
       "    <tr>\n",
       "      <th>26</th>\n",
       "      <td>Tocantins</td>\n",
       "      <td>0.773681</td>\n",
       "    </tr>\n",
       "    <tr>\n",
       "      <th>18</th>\n",
       "      <td>Rio de Janeiro</td>\n",
       "      <td>0.700453</td>\n",
       "    </tr>\n",
       "    <tr>\n",
       "      <th>16</th>\n",
       "      <td>Pernambuco</td>\n",
       "      <td>0.674026</td>\n",
       "    </tr>\n",
       "    <tr>\n",
       "      <th>8</th>\n",
       "      <td>Goiás</td>\n",
       "      <td>0.667889</td>\n",
       "    </tr>\n",
       "    <tr>\n",
       "      <th>11</th>\n",
       "      <td>Mato Grosso do Sul</td>\n",
       "      <td>0.639258</td>\n",
       "    </tr>\n",
       "    <tr>\n",
       "      <th>13</th>\n",
       "      <td>Pará</td>\n",
       "      <td>0.626385</td>\n",
       "    </tr>\n",
       "    <tr>\n",
       "      <th>3</th>\n",
       "      <td>Amazonas</td>\n",
       "      <td>0.612835</td>\n",
       "    </tr>\n",
       "    <tr>\n",
       "      <th>17</th>\n",
       "      <td>Piauí</td>\n",
       "      <td>0.573666</td>\n",
       "    </tr>\n",
       "    <tr>\n",
       "      <th>10</th>\n",
       "      <td>Mato Grosso</td>\n",
       "      <td>0.568957</td>\n",
       "    </tr>\n",
       "    <tr>\n",
       "      <th>14</th>\n",
       "      <td>Paraíba</td>\n",
       "      <td>0.546918</td>\n",
       "    </tr>\n",
       "    <tr>\n",
       "      <th>9</th>\n",
       "      <td>Maranhão</td>\n",
       "      <td>0.516774</td>\n",
       "    </tr>\n",
       "    <tr>\n",
       "      <th>21</th>\n",
       "      <td>Rondônia</td>\n",
       "      <td>0.481511</td>\n",
       "    </tr>\n",
       "    <tr>\n",
       "      <th>4</th>\n",
       "      <td>Bahia</td>\n",
       "      <td>0.468032</td>\n",
       "    </tr>\n",
       "    <tr>\n",
       "      <th>12</th>\n",
       "      <td>Minas Gerais</td>\n",
       "      <td>0.371004</td>\n",
       "    </tr>\n",
       "    <tr>\n",
       "      <th>23</th>\n",
       "      <td>Santa Catarina</td>\n",
       "      <td>0.327577</td>\n",
       "    </tr>\n",
       "    <tr>\n",
       "      <th>5</th>\n",
       "      <td>Ceará</td>\n",
       "      <td>0.265053</td>\n",
       "    </tr>\n",
       "    <tr>\n",
       "      <th>15</th>\n",
       "      <td>Paraná</td>\n",
       "      <td>0.225417</td>\n",
       "    </tr>\n",
       "    <tr>\n",
       "      <th>22</th>\n",
       "      <td>Roraima</td>\n",
       "      <td>0.222340</td>\n",
       "    </tr>\n",
       "    <tr>\n",
       "      <th>0</th>\n",
       "      <td>Acre</td>\n",
       "      <td>0.181355</td>\n",
       "    </tr>\n",
       "    <tr>\n",
       "      <th>20</th>\n",
       "      <td>Rio Grande do Sul</td>\n",
       "      <td>0.166828</td>\n",
       "    </tr>\n",
       "    <tr>\n",
       "      <th>19</th>\n",
       "      <td>Rio Grande do Norte</td>\n",
       "      <td>0.133192</td>\n",
       "    </tr>\n",
       "  </tbody>\n",
       "</table>\n",
       "</div>"
      ],
      "text/plain": [
       "                 Estado  Proporção de carros por habitantes\n",
       "7        Espírito Santo                            0.876655\n",
       "6      Distrito Federal                            0.838672\n",
       "2                 Amapá                            0.834258\n",
       "24            São Paulo                            0.829874\n",
       "1               Alagoas                            0.810507\n",
       "25              Sergipe                            0.783169\n",
       "26            Tocantins                            0.773681\n",
       "18       Rio de Janeiro                            0.700453\n",
       "16           Pernambuco                            0.674026\n",
       "8                 Goiás                            0.667889\n",
       "11   Mato Grosso do Sul                            0.639258\n",
       "13                 Pará                            0.626385\n",
       "3              Amazonas                            0.612835\n",
       "17                Piauí                            0.573666\n",
       "10          Mato Grosso                            0.568957\n",
       "14              Paraíba                            0.546918\n",
       "9              Maranhão                            0.516774\n",
       "21             Rondônia                            0.481511\n",
       "4                 Bahia                            0.468032\n",
       "12         Minas Gerais                            0.371004\n",
       "23       Santa Catarina                            0.327577\n",
       "5                 Ceará                            0.265053\n",
       "15               Paraná                            0.225417\n",
       "22              Roraima                            0.222340\n",
       "0                  Acre                            0.181355\n",
       "20    Rio Grande do Sul                            0.166828\n",
       "19  Rio Grande do Norte                            0.133192"
      ]
     },
     "execution_count": 49,
     "metadata": {},
     "output_type": "execute_result"
    }
   ],
   "source": [
    "df_estado_propor"
   ]
  },
  {
   "cell_type": "markdown",
   "metadata": {
    "id": "lI0ZyKu9DD-_"
   },
   "source": [
    "# Agregação de dados\n",
    "\n",
    "**Utilizando o arquivos: concurso.csv**\n",
    "\n",
    "7. Qual a média de idade por região?\n",
    "8. Qual é a porcentagem de pessoas com deficiência?\n",
    "9. Quantas pessoas são do estado do Piauí?\n"
   ]
  },
  {
   "cell_type": "code",
   "execution_count": 180,
   "metadata": {
    "id": "07H8lbCHDDv3"
   },
   "outputs": [
    {
     "data": {
      "text/html": [
       "<div>\n",
       "<style scoped>\n",
       "    .dataframe tbody tr th:only-of-type {\n",
       "        vertical-align: middle;\n",
       "    }\n",
       "\n",
       "    .dataframe tbody tr th {\n",
       "        vertical-align: top;\n",
       "    }\n",
       "\n",
       "    .dataframe thead th {\n",
       "        text-align: right;\n",
       "    }\n",
       "</style>\n",
       "<table border=\"1\" class=\"dataframe\">\n",
       "  <thead>\n",
       "    <tr style=\"text-align: right;\">\n",
       "      <th></th>\n",
       "      <th>Número de Inscrição</th>\n",
       "      <th>Data de Nascimento</th>\n",
       "      <th>Data de Inscrição</th>\n",
       "      <th>Cidade</th>\n",
       "      <th>Estado</th>\n",
       "      <th>Sexo</th>\n",
       "      <th>Deficiência</th>\n",
       "      <th>Nome</th>\n",
       "      <th>Sobrenome</th>\n",
       "      <th>Escolaridade</th>\n",
       "    </tr>\n",
       "  </thead>\n",
       "  <tbody>\n",
       "    <tr>\n",
       "      <th>0</th>\n",
       "      <td>f2bf14e6-9ecc-43d1-9098-1a133277d26a</td>\n",
       "      <td>NaN</td>\n",
       "      <td>2022-01-11 16:47:41</td>\n",
       "      <td>da Mota de das Neves</td>\n",
       "      <td>MS</td>\n",
       "      <td>F</td>\n",
       "      <td>Sim</td>\n",
       "      <td>João Miguel</td>\n",
       "      <td>Castro</td>\n",
       "      <td>Ensino Médio</td>\n",
       "    </tr>\n",
       "    <tr>\n",
       "      <th>1</th>\n",
       "      <td>afd1d890-dbfd-4d72-a9a2-4309f356167a</td>\n",
       "      <td>1910-02-05</td>\n",
       "      <td>2022-01-30 13:17:53</td>\n",
       "      <td>Teixeira do Norte</td>\n",
       "      <td>SE</td>\n",
       "      <td>NaN</td>\n",
       "      <td>Não</td>\n",
       "      <td>Maria Sophia</td>\n",
       "      <td>Rezende</td>\n",
       "      <td>Ensino Fundamental</td>\n",
       "    </tr>\n",
       "    <tr>\n",
       "      <th>2</th>\n",
       "      <td>16451a82-28f8-48bf-a5b6-9f0c5b25ef6b</td>\n",
       "      <td>NaN</td>\n",
       "      <td>2022-01-28 12:28:17</td>\n",
       "      <td>NaN</td>\n",
       "      <td>CE</td>\n",
       "      <td>F</td>\n",
       "      <td>Sim</td>\n",
       "      <td>Giovanna</td>\n",
       "      <td>Freitas</td>\n",
       "      <td>Ensino Superior</td>\n",
       "    </tr>\n",
       "    <tr>\n",
       "      <th>3</th>\n",
       "      <td>200731b4-a651-4a2d-9d01-11d4d6a41511</td>\n",
       "      <td>1949-11-21</td>\n",
       "      <td>2022-01-20 02:11:07</td>\n",
       "      <td>Porto</td>\n",
       "      <td>RN</td>\n",
       "      <td>F</td>\n",
       "      <td>Não</td>\n",
       "      <td>João Felipe</td>\n",
       "      <td>Peixoto</td>\n",
       "      <td>Ensino Superior</td>\n",
       "    </tr>\n",
       "    <tr>\n",
       "      <th>4</th>\n",
       "      <td>22369508-74a2-403b-8237-1851971a08d6</td>\n",
       "      <td>1963-06-26</td>\n",
       "      <td>2022-01-23 21:48:36</td>\n",
       "      <td>Pires do Oeste</td>\n",
       "      <td>PA</td>\n",
       "      <td>F</td>\n",
       "      <td>Não</td>\n",
       "      <td>Benjamin</td>\n",
       "      <td>Farias</td>\n",
       "      <td>Ensino Médio</td>\n",
       "    </tr>\n",
       "  </tbody>\n",
       "</table>\n",
       "</div>"
      ],
      "text/plain": [
       "                    Número de Inscrição Data de Nascimento  \\\n",
       "0  f2bf14e6-9ecc-43d1-9098-1a133277d26a                NaN   \n",
       "1  afd1d890-dbfd-4d72-a9a2-4309f356167a         1910-02-05   \n",
       "2  16451a82-28f8-48bf-a5b6-9f0c5b25ef6b                NaN   \n",
       "3  200731b4-a651-4a2d-9d01-11d4d6a41511         1949-11-21   \n",
       "4  22369508-74a2-403b-8237-1851971a08d6         1963-06-26   \n",
       "\n",
       "     Data de Inscrição                Cidade Estado Sexo Deficiência  \\\n",
       "0  2022-01-11 16:47:41  da Mota de das Neves     MS    F         Sim   \n",
       "1  2022-01-30 13:17:53     Teixeira do Norte     SE  NaN         Não   \n",
       "2  2022-01-28 12:28:17                   NaN     CE    F         Sim   \n",
       "3  2022-01-20 02:11:07                 Porto     RN    F         Não   \n",
       "4  2022-01-23 21:48:36        Pires do Oeste     PA    F         Não   \n",
       "\n",
       "           Nome Sobrenome        Escolaridade  \n",
       "0   João Miguel    Castro        Ensino Médio  \n",
       "1  Maria Sophia   Rezende  Ensino Fundamental  \n",
       "2      Giovanna   Freitas     Ensino Superior  \n",
       "3   João Felipe   Peixoto     Ensino Superior  \n",
       "4      Benjamin    Farias        Ensino Médio  "
      ]
     },
     "execution_count": 180,
     "metadata": {},
     "output_type": "execute_result"
    }
   ],
   "source": [
    "df_concurso = pd.read_csv('dados_concurso.csv')\n",
    "df_concurso.head(5)"
   ]
  },
  {
   "cell_type": "code",
   "execution_count": 56,
   "metadata": {},
   "outputs": [],
   "source": [
    "df_concurso['Data de Nascimento'] = pd.to_datetime(df_concurso['Data de Nascimento'])"
   ]
  },
  {
   "cell_type": "code",
   "execution_count": 59,
   "metadata": {},
   "outputs": [],
   "source": [
    "df_concurso['AnoNascimento'] = df_concurso['Data de Nascimento'].dt.year"
   ]
  },
  {
   "cell_type": "code",
   "execution_count": 65,
   "metadata": {},
   "outputs": [
    {
     "data": {
      "text/html": [
       "<div>\n",
       "<style scoped>\n",
       "    .dataframe tbody tr th:only-of-type {\n",
       "        vertical-align: middle;\n",
       "    }\n",
       "\n",
       "    .dataframe tbody tr th {\n",
       "        vertical-align: top;\n",
       "    }\n",
       "\n",
       "    .dataframe thead th {\n",
       "        text-align: right;\n",
       "    }\n",
       "</style>\n",
       "<table border=\"1\" class=\"dataframe\">\n",
       "  <thead>\n",
       "    <tr style=\"text-align: right;\">\n",
       "      <th></th>\n",
       "      <th>Número de Inscrição</th>\n",
       "      <th>Data de Nascimento</th>\n",
       "      <th>Data de Inscrição</th>\n",
       "      <th>Cidade</th>\n",
       "      <th>Estado</th>\n",
       "      <th>Sexo</th>\n",
       "      <th>Deficiência</th>\n",
       "      <th>Nome</th>\n",
       "      <th>Sobrenome</th>\n",
       "      <th>Escolaridade</th>\n",
       "      <th>AnoNascimento</th>\n",
       "      <th>idade</th>\n",
       "    </tr>\n",
       "  </thead>\n",
       "  <tbody>\n",
       "    <tr>\n",
       "      <th>0</th>\n",
       "      <td>f2bf14e6-9ecc-43d1-9098-1a133277d26a</td>\n",
       "      <td>NaT</td>\n",
       "      <td>2022-01-11 16:47:41</td>\n",
       "      <td>da Mota de das Neves</td>\n",
       "      <td>MS</td>\n",
       "      <td>F</td>\n",
       "      <td>Sim</td>\n",
       "      <td>João Miguel</td>\n",
       "      <td>Castro</td>\n",
       "      <td>Ensino Médio</td>\n",
       "      <td>NaN</td>\n",
       "      <td>NaN</td>\n",
       "    </tr>\n",
       "    <tr>\n",
       "      <th>1</th>\n",
       "      <td>afd1d890-dbfd-4d72-a9a2-4309f356167a</td>\n",
       "      <td>1910-02-05</td>\n",
       "      <td>2022-01-30 13:17:53</td>\n",
       "      <td>Teixeira do Norte</td>\n",
       "      <td>SE</td>\n",
       "      <td>NaN</td>\n",
       "      <td>Não</td>\n",
       "      <td>Maria Sophia</td>\n",
       "      <td>Rezende</td>\n",
       "      <td>Ensino Fundamental</td>\n",
       "      <td>1910.0</td>\n",
       "      <td>113.0</td>\n",
       "    </tr>\n",
       "  </tbody>\n",
       "</table>\n",
       "</div>"
      ],
      "text/plain": [
       "                    Número de Inscrição Data de Nascimento  \\\n",
       "0  f2bf14e6-9ecc-43d1-9098-1a133277d26a                NaT   \n",
       "1  afd1d890-dbfd-4d72-a9a2-4309f356167a         1910-02-05   \n",
       "\n",
       "     Data de Inscrição                Cidade Estado Sexo Deficiência  \\\n",
       "0  2022-01-11 16:47:41  da Mota de das Neves     MS    F         Sim   \n",
       "1  2022-01-30 13:17:53     Teixeira do Norte     SE  NaN         Não   \n",
       "\n",
       "           Nome Sobrenome        Escolaridade  AnoNascimento  idade  \n",
       "0   João Miguel    Castro        Ensino Médio            NaN    NaN  \n",
       "1  Maria Sophia   Rezende  Ensino Fundamental         1910.0  113.0  "
      ]
     },
     "execution_count": 65,
     "metadata": {},
     "output_type": "execute_result"
    }
   ],
   "source": [
    "idade = 2023 - df_concurso['AnoNascimento'] \n",
    "\n",
    "df_concurso['idade'] = idade\n",
    "df_concurso.head(2)"
   ]
  },
  {
   "cell_type": "code",
   "execution_count": 70,
   "metadata": {},
   "outputs": [
    {
     "data": {
      "text/plain": [
       "Estado\n",
       "AL     61.333333\n",
       "AM    100.000000\n",
       "AP     41.250000\n",
       "BA    106.333333\n",
       "CE     65.000000\n",
       "DF     74.000000\n",
       "ES     18.000000\n",
       "GO     60.666667\n",
       "MA     31.750000\n",
       "MG     44.666667\n",
       "MS    107.000000\n",
       "MT     64.666667\n",
       "PA     41.250000\n",
       "PB     59.500000\n",
       "PE     35.500000\n",
       "PI     41.000000\n",
       "PR           NaN\n",
       "RJ     52.500000\n",
       "RN     65.000000\n",
       "RO     28.000000\n",
       "RR           NaN\n",
       "RS    102.500000\n",
       "SC     47.500000\n",
       "SE     66.500000\n",
       "SP     28.750000\n",
       "TO    107.000000\n",
       "Name: idade, dtype: float64"
      ]
     },
     "execution_count": 70,
     "metadata": {},
     "output_type": "execute_result"
    }
   ],
   "source": [
    "# 7 \n",
    "\n",
    "df_concurso.groupby('Estado')['idade'].mean()"
   ]
  },
  {
   "cell_type": "code",
   "execution_count": 76,
   "metadata": {},
   "outputs": [
    {
     "data": {
      "text/plain": [
       "Sim    52.9%\n",
       "Não    47.1%\n",
       "Name: Deficiência, dtype: object"
      ]
     },
     "execution_count": 76,
     "metadata": {},
     "output_type": "execute_result"
    }
   ],
   "source": [
    "# 8\n",
    "\n",
    "df_concurso['Deficiência'].value_counts(normalize=True).map(\"{:.1%}\".format)"
   ]
  },
  {
   "cell_type": "code",
   "execution_count": 89,
   "metadata": {},
   "outputs": [
    {
     "data": {
      "text/plain": [
       "4"
      ]
     },
     "execution_count": 89,
     "metadata": {},
     "output_type": "execute_result"
    }
   ],
   "source": [
    "# 9 \n",
    "\n",
    "df_concurso[df_concurso['Estado'] == 'PI']['Número de Inscrição'].count()"
   ]
  },
  {
   "cell_type": "code",
   "execution_count": null,
   "metadata": {},
   "outputs": [],
   "source": [
    "# Escolaridade por regiao"
   ]
  },
  {
   "cell_type": "code",
   "execution_count": 97,
   "metadata": {},
   "outputs": [
    {
     "data": {
      "text/plain": [
       "Estado  Escolaridade      \n",
       "AL      Ensino Fundamental    1\n",
       "        Ensino Superior       1\n",
       "AM      Ensino Superior       1\n",
       "AP      Ensino Fundamental    3\n",
       "        Ensino Médio          2\n",
       "BA      Ensino Superior       2\n",
       "CE      Ensino Fundamental    1\n",
       "        Ensino Médio          1\n",
       "        Ensino Superior       1\n",
       "DF      Ensino Superior       2\n",
       "ES      Ensino Superior       1\n",
       "GO      Ensino Fundamental    2\n",
       "        Ensino Médio          2\n",
       "MA      Ensino Fundamental    2\n",
       "MG      Ensino Fundamental    1\n",
       "        Ensino Médio          1\n",
       "        Ensino Superior       1\n",
       "MS      Ensino Médio          1\n",
       "        Ensino Superior       1\n",
       "MT      Ensino Médio          1\n",
       "        Ensino Superior       1\n",
       "PA      Ensino Médio          1\n",
       "        Ensino Superior       3\n",
       "PB      Ensino Fundamental    1\n",
       "        Ensino Superior       1\n",
       "PE      Ensino Fundamental    2\n",
       "        Ensino Médio          2\n",
       "PI      Ensino Médio          1\n",
       "        Ensino Superior       3\n",
       "PR      Ensino Fundamental    1\n",
       "RJ      Ensino Fundamental    1\n",
       "        Ensino Superior       1\n",
       "RN      Ensino Fundamental    2\n",
       "        Ensino Médio          1\n",
       "        Ensino Superior       2\n",
       "RO      Ensino Fundamental    1\n",
       "RS      Ensino Médio          1\n",
       "SC      Ensino Médio          1\n",
       "        Ensino Superior       1\n",
       "SE      Ensino Fundamental    2\n",
       "        Ensino Médio          1\n",
       "        Ensino Superior       1\n",
       "SP      Ensino Fundamental    2\n",
       "        Ensino Médio          1\n",
       "TO      Ensino Fundamental    1\n",
       "        Ensino Superior       1\n",
       "Name: Número de Inscrição, dtype: int64"
      ]
     },
     "execution_count": 97,
     "metadata": {},
     "output_type": "execute_result"
    }
   ],
   "source": [
    "df_concurso.groupby(['Estado','Escolaridade'])['Número de Inscrição'].count()"
   ]
  },
  {
   "cell_type": "markdown",
   "metadata": {
    "id": "fzcX5qBZGn2X"
   },
   "source": [
    "# Indexação e fatiamento\n",
    "\n",
    "**Utilizando o arquivos: concurso.csv**\n",
    "\n",
    "Temos como base inscrições em um concurso público, utilizando indexação retorne:\n",
    "\n",
    "11. Quantas do ES são so sexo feminino?\n",
    "12. Quantas pessoas nasceram antes de 1995?\n",
    "13. Retorne os dados dos incritos com as colunas: nº inscrição, nome e idade.\n",
    "14. Retorne as 10 primeiras inscrições\n"
   ]
  },
  {
   "cell_type": "code",
   "execution_count": 99,
   "metadata": {
    "id": "igt5TWV5GpL8"
   },
   "outputs": [
    {
     "data": {
      "text/html": [
       "<div>\n",
       "<style scoped>\n",
       "    .dataframe tbody tr th:only-of-type {\n",
       "        vertical-align: middle;\n",
       "    }\n",
       "\n",
       "    .dataframe tbody tr th {\n",
       "        vertical-align: top;\n",
       "    }\n",
       "\n",
       "    .dataframe thead th {\n",
       "        text-align: right;\n",
       "    }\n",
       "</style>\n",
       "<table border=\"1\" class=\"dataframe\">\n",
       "  <thead>\n",
       "    <tr style=\"text-align: right;\">\n",
       "      <th></th>\n",
       "      <th>Número de Inscrição</th>\n",
       "      <th>Data de Nascimento</th>\n",
       "      <th>Data de Inscrição</th>\n",
       "      <th>Cidade</th>\n",
       "      <th>Estado</th>\n",
       "      <th>Sexo</th>\n",
       "      <th>Deficiência</th>\n",
       "      <th>Nome</th>\n",
       "      <th>Sobrenome</th>\n",
       "      <th>Escolaridade</th>\n",
       "      <th>AnoNascimento</th>\n",
       "      <th>idade</th>\n",
       "    </tr>\n",
       "  </thead>\n",
       "  <tbody>\n",
       "    <tr>\n",
       "      <th>0</th>\n",
       "      <td>f2bf14e6-9ecc-43d1-9098-1a133277d26a</td>\n",
       "      <td>NaT</td>\n",
       "      <td>2022-01-11 16:47:41</td>\n",
       "      <td>da Mota de das Neves</td>\n",
       "      <td>MS</td>\n",
       "      <td>F</td>\n",
       "      <td>Sim</td>\n",
       "      <td>João Miguel</td>\n",
       "      <td>Castro</td>\n",
       "      <td>Ensino Médio</td>\n",
       "      <td>NaN</td>\n",
       "      <td>NaN</td>\n",
       "    </tr>\n",
       "    <tr>\n",
       "      <th>1</th>\n",
       "      <td>afd1d890-dbfd-4d72-a9a2-4309f356167a</td>\n",
       "      <td>1910-02-05</td>\n",
       "      <td>2022-01-30 13:17:53</td>\n",
       "      <td>Teixeira do Norte</td>\n",
       "      <td>SE</td>\n",
       "      <td>NaN</td>\n",
       "      <td>Não</td>\n",
       "      <td>Maria Sophia</td>\n",
       "      <td>Rezende</td>\n",
       "      <td>Ensino Fundamental</td>\n",
       "      <td>1910.0</td>\n",
       "      <td>113.0</td>\n",
       "    </tr>\n",
       "    <tr>\n",
       "      <th>2</th>\n",
       "      <td>16451a82-28f8-48bf-a5b6-9f0c5b25ef6b</td>\n",
       "      <td>NaT</td>\n",
       "      <td>2022-01-28 12:28:17</td>\n",
       "      <td>NaN</td>\n",
       "      <td>CE</td>\n",
       "      <td>F</td>\n",
       "      <td>Sim</td>\n",
       "      <td>Giovanna</td>\n",
       "      <td>Freitas</td>\n",
       "      <td>Ensino Superior</td>\n",
       "      <td>NaN</td>\n",
       "      <td>NaN</td>\n",
       "    </tr>\n",
       "    <tr>\n",
       "      <th>3</th>\n",
       "      <td>200731b4-a651-4a2d-9d01-11d4d6a41511</td>\n",
       "      <td>1949-11-21</td>\n",
       "      <td>2022-01-20 02:11:07</td>\n",
       "      <td>Porto</td>\n",
       "      <td>RN</td>\n",
       "      <td>F</td>\n",
       "      <td>Não</td>\n",
       "      <td>João Felipe</td>\n",
       "      <td>Peixoto</td>\n",
       "      <td>Ensino Superior</td>\n",
       "      <td>1949.0</td>\n",
       "      <td>74.0</td>\n",
       "    </tr>\n",
       "    <tr>\n",
       "      <th>4</th>\n",
       "      <td>22369508-74a2-403b-8237-1851971a08d6</td>\n",
       "      <td>1963-06-26</td>\n",
       "      <td>2022-01-23 21:48:36</td>\n",
       "      <td>Pires do Oeste</td>\n",
       "      <td>PA</td>\n",
       "      <td>F</td>\n",
       "      <td>Não</td>\n",
       "      <td>Benjamin</td>\n",
       "      <td>Farias</td>\n",
       "      <td>Ensino Médio</td>\n",
       "      <td>1963.0</td>\n",
       "      <td>60.0</td>\n",
       "    </tr>\n",
       "  </tbody>\n",
       "</table>\n",
       "</div>"
      ],
      "text/plain": [
       "                    Número de Inscrição Data de Nascimento  \\\n",
       "0  f2bf14e6-9ecc-43d1-9098-1a133277d26a                NaT   \n",
       "1  afd1d890-dbfd-4d72-a9a2-4309f356167a         1910-02-05   \n",
       "2  16451a82-28f8-48bf-a5b6-9f0c5b25ef6b                NaT   \n",
       "3  200731b4-a651-4a2d-9d01-11d4d6a41511         1949-11-21   \n",
       "4  22369508-74a2-403b-8237-1851971a08d6         1963-06-26   \n",
       "\n",
       "     Data de Inscrição                Cidade Estado Sexo Deficiência  \\\n",
       "0  2022-01-11 16:47:41  da Mota de das Neves     MS    F         Sim   \n",
       "1  2022-01-30 13:17:53     Teixeira do Norte     SE  NaN         Não   \n",
       "2  2022-01-28 12:28:17                   NaN     CE    F         Sim   \n",
       "3  2022-01-20 02:11:07                 Porto     RN    F         Não   \n",
       "4  2022-01-23 21:48:36        Pires do Oeste     PA    F         Não   \n",
       "\n",
       "           Nome Sobrenome        Escolaridade  AnoNascimento  idade  \n",
       "0   João Miguel    Castro        Ensino Médio            NaN    NaN  \n",
       "1  Maria Sophia   Rezende  Ensino Fundamental         1910.0  113.0  \n",
       "2      Giovanna   Freitas     Ensino Superior            NaN    NaN  \n",
       "3   João Felipe   Peixoto     Ensino Superior         1949.0   74.0  \n",
       "4      Benjamin    Farias        Ensino Médio         1963.0   60.0  "
      ]
     },
     "execution_count": 99,
     "metadata": {},
     "output_type": "execute_result"
    }
   ],
   "source": [
    "df_concurso.head(5)"
   ]
  },
  {
   "cell_type": "code",
   "execution_count": 100,
   "metadata": {},
   "outputs": [
    {
     "data": {
      "text/plain": [
       "F    49\n",
       "M    35\n",
       "Name: Sexo, dtype: int64"
      ]
     },
     "execution_count": 100,
     "metadata": {},
     "output_type": "execute_result"
    }
   ],
   "source": [
    "df_concurso['Sexo'].value_counts()"
   ]
  },
  {
   "cell_type": "code",
   "execution_count": 111,
   "metadata": {},
   "outputs": [
    {
     "data": {
      "text/plain": [
       "1"
      ]
     },
     "execution_count": 111,
     "metadata": {},
     "output_type": "execute_result"
    }
   ],
   "source": [
    "# 11\n",
    "df_concurso['Número de Inscrição'][(df_concurso['Estado'] == 'ES') & (df_concurso['Sexo'] == 'F')].count()"
   ]
  },
  {
   "cell_type": "code",
   "execution_count": 127,
   "metadata": {},
   "outputs": [
    {
     "data": {
      "text/plain": [
       "60"
      ]
     },
     "execution_count": 127,
     "metadata": {},
     "output_type": "execute_result"
    }
   ],
   "source": [
    "# 12 \n",
    "\n",
    "df_concurso['Número de Inscrição'][df_concurso['AnoNascimento'] < 1995 ].count()"
   ]
  },
  {
   "cell_type": "code",
   "execution_count": 130,
   "metadata": {},
   "outputs": [
    {
     "data": {
      "text/plain": [
       "60"
      ]
     },
     "execution_count": 130,
     "metadata": {},
     "output_type": "execute_result"
    }
   ],
   "source": [
    "# 12\n",
    "df_concurso['Data de Nascimento'].loc[df_concurso['Data de Nascimento'] < np.datetime64('1995')].count()"
   ]
  },
  {
   "cell_type": "code",
   "execution_count": 121,
   "metadata": {},
   "outputs": [
    {
     "data": {
      "text/html": [
       "<div>\n",
       "<style scoped>\n",
       "    .dataframe tbody tr th:only-of-type {\n",
       "        vertical-align: middle;\n",
       "    }\n",
       "\n",
       "    .dataframe tbody tr th {\n",
       "        vertical-align: top;\n",
       "    }\n",
       "\n",
       "    .dataframe thead th {\n",
       "        text-align: right;\n",
       "    }\n",
       "</style>\n",
       "<table border=\"1\" class=\"dataframe\">\n",
       "  <thead>\n",
       "    <tr style=\"text-align: right;\">\n",
       "      <th></th>\n",
       "      <th>Número de Inscrição</th>\n",
       "      <th>Nome</th>\n",
       "      <th>idade</th>\n",
       "    </tr>\n",
       "  </thead>\n",
       "  <tbody>\n",
       "    <tr>\n",
       "      <th>0</th>\n",
       "      <td>f2bf14e6-9ecc-43d1-9098-1a133277d26a</td>\n",
       "      <td>João Miguel</td>\n",
       "      <td>NaN</td>\n",
       "    </tr>\n",
       "    <tr>\n",
       "      <th>1</th>\n",
       "      <td>afd1d890-dbfd-4d72-a9a2-4309f356167a</td>\n",
       "      <td>Maria Sophia</td>\n",
       "      <td>113.0</td>\n",
       "    </tr>\n",
       "    <tr>\n",
       "      <th>2</th>\n",
       "      <td>16451a82-28f8-48bf-a5b6-9f0c5b25ef6b</td>\n",
       "      <td>Giovanna</td>\n",
       "      <td>NaN</td>\n",
       "    </tr>\n",
       "    <tr>\n",
       "      <th>3</th>\n",
       "      <td>200731b4-a651-4a2d-9d01-11d4d6a41511</td>\n",
       "      <td>João Felipe</td>\n",
       "      <td>74.0</td>\n",
       "    </tr>\n",
       "    <tr>\n",
       "      <th>4</th>\n",
       "      <td>22369508-74a2-403b-8237-1851971a08d6</td>\n",
       "      <td>Benjamin</td>\n",
       "      <td>60.0</td>\n",
       "    </tr>\n",
       "    <tr>\n",
       "      <th>...</th>\n",
       "      <td>...</td>\n",
       "      <td>...</td>\n",
       "      <td>...</td>\n",
       "    </tr>\n",
       "    <tr>\n",
       "      <th>95</th>\n",
       "      <td>b162a88d-6afa-46aa-afbe-f5b0e0d13ce4</td>\n",
       "      <td>Cauê</td>\n",
       "      <td>NaN</td>\n",
       "    </tr>\n",
       "    <tr>\n",
       "      <th>96</th>\n",
       "      <td>25e9b106-2c3d-444d-b7d4-ae34ad33bc88</td>\n",
       "      <td>Maria Eduarda</td>\n",
       "      <td>NaN</td>\n",
       "    </tr>\n",
       "    <tr>\n",
       "      <th>97</th>\n",
       "      <td>4ffbc174-78af-4da1-a53a-b442c20a876e</td>\n",
       "      <td>Catarina</td>\n",
       "      <td>NaN</td>\n",
       "    </tr>\n",
       "    <tr>\n",
       "      <th>98</th>\n",
       "      <td>d4e8e12a-3298-4ff1-a80f-2946431bd5a7</td>\n",
       "      <td>Giovanna</td>\n",
       "      <td>107.0</td>\n",
       "    </tr>\n",
       "    <tr>\n",
       "      <th>99</th>\n",
       "      <td>7af3e5da-99a2-4f0f-900c-cbc194351ce8</td>\n",
       "      <td>Eloah</td>\n",
       "      <td>64.0</td>\n",
       "    </tr>\n",
       "  </tbody>\n",
       "</table>\n",
       "<p>100 rows × 3 columns</p>\n",
       "</div>"
      ],
      "text/plain": [
       "                     Número de Inscrição           Nome  idade\n",
       "0   f2bf14e6-9ecc-43d1-9098-1a133277d26a    João Miguel    NaN\n",
       "1   afd1d890-dbfd-4d72-a9a2-4309f356167a   Maria Sophia  113.0\n",
       "2   16451a82-28f8-48bf-a5b6-9f0c5b25ef6b       Giovanna    NaN\n",
       "3   200731b4-a651-4a2d-9d01-11d4d6a41511    João Felipe   74.0\n",
       "4   22369508-74a2-403b-8237-1851971a08d6       Benjamin   60.0\n",
       "..                                   ...            ...    ...\n",
       "95  b162a88d-6afa-46aa-afbe-f5b0e0d13ce4           Cauê    NaN\n",
       "96  25e9b106-2c3d-444d-b7d4-ae34ad33bc88  Maria Eduarda    NaN\n",
       "97  4ffbc174-78af-4da1-a53a-b442c20a876e       Catarina    NaN\n",
       "98  d4e8e12a-3298-4ff1-a80f-2946431bd5a7       Giovanna  107.0\n",
       "99  7af3e5da-99a2-4f0f-900c-cbc194351ce8          Eloah   64.0\n",
       "\n",
       "[100 rows x 3 columns]"
      ]
     },
     "execution_count": 121,
     "metadata": {},
     "output_type": "execute_result"
    }
   ],
   "source": [
    "# 13\n",
    "df_concurso.loc[:, ['Número de Inscrição','Nome','idade']]\n",
    "\n",
    "# OU\n",
    "\n",
    "df_concurso[['Número de Inscrição','Nome','idade']]"
   ]
  },
  {
   "cell_type": "code",
   "execution_count": 144,
   "metadata": {},
   "outputs": [
    {
     "data": {
      "text/html": [
       "<div>\n",
       "<style scoped>\n",
       "    .dataframe tbody tr th:only-of-type {\n",
       "        vertical-align: middle;\n",
       "    }\n",
       "\n",
       "    .dataframe tbody tr th {\n",
       "        vertical-align: top;\n",
       "    }\n",
       "\n",
       "    .dataframe thead th {\n",
       "        text-align: right;\n",
       "    }\n",
       "</style>\n",
       "<table border=\"1\" class=\"dataframe\">\n",
       "  <thead>\n",
       "    <tr style=\"text-align: right;\">\n",
       "      <th></th>\n",
       "      <th>Número de Inscrição</th>\n",
       "      <th>Data de Nascimento</th>\n",
       "      <th>Data de Inscrição</th>\n",
       "      <th>Cidade</th>\n",
       "      <th>Estado</th>\n",
       "      <th>Sexo</th>\n",
       "      <th>Deficiência</th>\n",
       "      <th>Nome</th>\n",
       "      <th>Sobrenome</th>\n",
       "      <th>Escolaridade</th>\n",
       "      <th>AnoNascimento</th>\n",
       "      <th>idade</th>\n",
       "    </tr>\n",
       "  </thead>\n",
       "  <tbody>\n",
       "    <tr>\n",
       "      <th>6</th>\n",
       "      <td>1d6b237b-44d1-43d8-92c7-0825c3a02805</td>\n",
       "      <td>NaT</td>\n",
       "      <td>2022-01-05 07:21:28</td>\n",
       "      <td>Moreira</td>\n",
       "      <td>TO</td>\n",
       "      <td>F</td>\n",
       "      <td>Não</td>\n",
       "      <td>Anthony</td>\n",
       "      <td>Barros</td>\n",
       "      <td>Ensino Superior</td>\n",
       "      <td>NaN</td>\n",
       "      <td>NaN</td>\n",
       "    </tr>\n",
       "    <tr>\n",
       "      <th>11</th>\n",
       "      <td>26a5f7c3-f7bb-46d9-a9b2-0ca62429c56d</td>\n",
       "      <td>2000-07-09</td>\n",
       "      <td>2022-01-05 07:26:19</td>\n",
       "      <td>NaN</td>\n",
       "      <td>RJ</td>\n",
       "      <td>F</td>\n",
       "      <td>Sim</td>\n",
       "      <td>Bruno</td>\n",
       "      <td>Azevedo</td>\n",
       "      <td>Ensino Superior</td>\n",
       "      <td>2000.0</td>\n",
       "      <td>23.0</td>\n",
       "    </tr>\n",
       "    <tr>\n",
       "      <th>30</th>\n",
       "      <td>d6a8ad8a-511a-46d7-ab54-e9ee1ce9f845</td>\n",
       "      <td>1941-09-25</td>\n",
       "      <td>2022-01-05 11:45:04</td>\n",
       "      <td>Freitas da Praia</td>\n",
       "      <td>RJ</td>\n",
       "      <td>F</td>\n",
       "      <td>Sim</td>\n",
       "      <td>Isabella</td>\n",
       "      <td>Ramos</td>\n",
       "      <td>Ensino Fundamental</td>\n",
       "      <td>1941.0</td>\n",
       "      <td>82.0</td>\n",
       "    </tr>\n",
       "    <tr>\n",
       "      <th>79</th>\n",
       "      <td>a87116d6-215c-459d-b36d-04dea839d3fe</td>\n",
       "      <td>NaT</td>\n",
       "      <td>2022-01-05 14:25:54</td>\n",
       "      <td>da Mota</td>\n",
       "      <td>GO</td>\n",
       "      <td>F</td>\n",
       "      <td>Não</td>\n",
       "      <td>Bryan</td>\n",
       "      <td>Castro</td>\n",
       "      <td>Ensino Fundamental</td>\n",
       "      <td>NaN</td>\n",
       "      <td>NaN</td>\n",
       "    </tr>\n",
       "    <tr>\n",
       "      <th>41</th>\n",
       "      <td>cdebe031-88d0-4099-bfb2-47123c30ba15</td>\n",
       "      <td>2012-09-06</td>\n",
       "      <td>2022-01-05 16:46:21</td>\n",
       "      <td>Ramos Alegre</td>\n",
       "      <td>SC</td>\n",
       "      <td>F</td>\n",
       "      <td>NaN</td>\n",
       "      <td>Milena</td>\n",
       "      <td>da Paz</td>\n",
       "      <td>Ensino Superior</td>\n",
       "      <td>2012.0</td>\n",
       "      <td>11.0</td>\n",
       "    </tr>\n",
       "    <tr>\n",
       "      <th>76</th>\n",
       "      <td>48b96931-5a54-4b6c-bbab-c46bc7e56957</td>\n",
       "      <td>1970-06-26</td>\n",
       "      <td>2022-01-05 17:58:42</td>\n",
       "      <td>Monteiro do Amparo</td>\n",
       "      <td>NaN</td>\n",
       "      <td>F</td>\n",
       "      <td>Não</td>\n",
       "      <td>Clara</td>\n",
       "      <td>Moreira</td>\n",
       "      <td>Ensino Médio</td>\n",
       "      <td>1970.0</td>\n",
       "      <td>53.0</td>\n",
       "    </tr>\n",
       "    <tr>\n",
       "      <th>12</th>\n",
       "      <td>f3cae86a-4920-407f-9fcd-7317da8221e2</td>\n",
       "      <td>2016-03-10</td>\n",
       "      <td>2022-01-05 18:28:29</td>\n",
       "      <td>Silva do Galho</td>\n",
       "      <td>SP</td>\n",
       "      <td>F</td>\n",
       "      <td>Não</td>\n",
       "      <td>Alexandre</td>\n",
       "      <td>Souza</td>\n",
       "      <td>NaN</td>\n",
       "      <td>2016.0</td>\n",
       "      <td>7.0</td>\n",
       "    </tr>\n",
       "    <tr>\n",
       "      <th>42</th>\n",
       "      <td>0a1b5390-6ef7-442c-81cf-14754a0562a6</td>\n",
       "      <td>1947-11-26</td>\n",
       "      <td>2022-01-06 06:15:29</td>\n",
       "      <td>Caldeira de Goiás</td>\n",
       "      <td>DF</td>\n",
       "      <td>F</td>\n",
       "      <td>Sim</td>\n",
       "      <td>Mariane</td>\n",
       "      <td>Porto</td>\n",
       "      <td>Ensino Superior</td>\n",
       "      <td>1947.0</td>\n",
       "      <td>76.0</td>\n",
       "    </tr>\n",
       "    <tr>\n",
       "      <th>34</th>\n",
       "      <td>b4dcd7a3-0682-4b81-80c0-28b74cf58187</td>\n",
       "      <td>1992-09-11</td>\n",
       "      <td>2022-01-06 17:07:32</td>\n",
       "      <td>da Luz do Oeste</td>\n",
       "      <td>RO</td>\n",
       "      <td>F</td>\n",
       "      <td>Sim</td>\n",
       "      <td>Marcela</td>\n",
       "      <td>Costela</td>\n",
       "      <td>NaN</td>\n",
       "      <td>1992.0</td>\n",
       "      <td>31.0</td>\n",
       "    </tr>\n",
       "    <tr>\n",
       "      <th>55</th>\n",
       "      <td>1060853a-7405-4058-bc9a-56cc6334f27c</td>\n",
       "      <td>1965-09-07</td>\n",
       "      <td>2022-01-06 17:34:51</td>\n",
       "      <td>da Rosa do Campo</td>\n",
       "      <td>NaN</td>\n",
       "      <td>M</td>\n",
       "      <td>Não</td>\n",
       "      <td>Valentina</td>\n",
       "      <td>Gomes</td>\n",
       "      <td>Ensino Fundamental</td>\n",
       "      <td>1965.0</td>\n",
       "      <td>58.0</td>\n",
       "    </tr>\n",
       "  </tbody>\n",
       "</table>\n",
       "</div>"
      ],
      "text/plain": [
       "                     Número de Inscrição Data de Nascimento  \\\n",
       "6   1d6b237b-44d1-43d8-92c7-0825c3a02805                NaT   \n",
       "11  26a5f7c3-f7bb-46d9-a9b2-0ca62429c56d         2000-07-09   \n",
       "30  d6a8ad8a-511a-46d7-ab54-e9ee1ce9f845         1941-09-25   \n",
       "79  a87116d6-215c-459d-b36d-04dea839d3fe                NaT   \n",
       "41  cdebe031-88d0-4099-bfb2-47123c30ba15         2012-09-06   \n",
       "76  48b96931-5a54-4b6c-bbab-c46bc7e56957         1970-06-26   \n",
       "12  f3cae86a-4920-407f-9fcd-7317da8221e2         2016-03-10   \n",
       "42  0a1b5390-6ef7-442c-81cf-14754a0562a6         1947-11-26   \n",
       "34  b4dcd7a3-0682-4b81-80c0-28b74cf58187         1992-09-11   \n",
       "55  1060853a-7405-4058-bc9a-56cc6334f27c         1965-09-07   \n",
       "\n",
       "      Data de Inscrição              Cidade Estado Sexo Deficiência  \\\n",
       "6   2022-01-05 07:21:28             Moreira     TO    F         Não   \n",
       "11  2022-01-05 07:26:19                 NaN     RJ    F         Sim   \n",
       "30  2022-01-05 11:45:04    Freitas da Praia     RJ    F         Sim   \n",
       "79  2022-01-05 14:25:54             da Mota     GO    F         Não   \n",
       "41  2022-01-05 16:46:21        Ramos Alegre     SC    F         NaN   \n",
       "76  2022-01-05 17:58:42  Monteiro do Amparo    NaN    F         Não   \n",
       "12  2022-01-05 18:28:29      Silva do Galho     SP    F         Não   \n",
       "42  2022-01-06 06:15:29   Caldeira de Goiás     DF    F         Sim   \n",
       "34  2022-01-06 17:07:32     da Luz do Oeste     RO    F         Sim   \n",
       "55  2022-01-06 17:34:51    da Rosa do Campo    NaN    M         Não   \n",
       "\n",
       "         Nome Sobrenome        Escolaridade  AnoNascimento  idade  \n",
       "6     Anthony    Barros     Ensino Superior            NaN    NaN  \n",
       "11      Bruno   Azevedo     Ensino Superior         2000.0   23.0  \n",
       "30   Isabella     Ramos  Ensino Fundamental         1941.0   82.0  \n",
       "79      Bryan    Castro  Ensino Fundamental            NaN    NaN  \n",
       "41     Milena    da Paz     Ensino Superior         2012.0   11.0  \n",
       "76      Clara   Moreira        Ensino Médio         1970.0   53.0  \n",
       "12  Alexandre     Souza                 NaN         2016.0    7.0  \n",
       "42    Mariane     Porto     Ensino Superior         1947.0   76.0  \n",
       "34    Marcela   Costela                 NaN         1992.0   31.0  \n",
       "55  Valentina     Gomes  Ensino Fundamental         1965.0   58.0  "
      ]
     },
     "execution_count": 144,
     "metadata": {},
     "output_type": "execute_result"
    }
   ],
   "source": [
    "# 14 \n",
    "\n",
    "df_primeiros_10 = df_concurso.sort_values('Data de Inscrição').iloc[0:10]\n",
    "df_primeiros_10"
   ]
  },
  {
   "cell_type": "markdown",
   "metadata": {
    "id": "oont0KrSGylE"
   },
   "source": [
    "# Valores faltosos\n",
    "\n",
    "14. Para os valores faltosos coloque:\n",
    "- Se string: Falta informação\n",
    "- Se número: mediana\n",
    "15. Plote a porcentagem de dados faltosos para cada coluna."
   ]
  },
  {
   "cell_type": "code",
   "execution_count": 155,
   "metadata": {},
   "outputs": [
    {
     "data": {
      "text/plain": [
       "<Axes: >"
      ]
     },
     "execution_count": 155,
     "metadata": {},
     "output_type": "execute_result"
    },
    {
     "data": {
      "image/png": "[encoded data removed]",
      "text/plain": [
       "<Figure size 640x480 with 1 Axes>"
      ]
     },
     "metadata": {},
     "output_type": "display_data"
    }
   ],
   "source": [
    "df_concurso.isna().sum().plot(kind='bar')"
   ]
  },
  {
   "cell_type": "code",
   "execution_count": 181,
   "metadata": {},
   "outputs": [
    {
     "data": {
      "text/plain": [
       "Número de Inscrição     0\n",
       "Data de Nascimento     18\n",
       "Data de Inscrição       0\n",
       "Cidade                 21\n",
       "Estado                 21\n",
       "Sexo                   16\n",
       "Deficiência            15\n",
       "Nome                    0\n",
       "Sobrenome               0\n",
       "Escolaridade           20\n",
       "dtype: int64"
      ]
     },
     "execution_count": 181,
     "metadata": {},
     "output_type": "execute_result"
    }
   ],
   "source": [
    "df_concurso.isna().sum()"
   ]
  },
  {
   "cell_type": "code",
   "execution_count": 183,
   "metadata": {},
   "outputs": [],
   "source": [
    "df_concurso.fillna('Não informado', inplace=True)"
   ]
  },
  {
   "cell_type": "code",
   "execution_count": 184,
   "metadata": {},
   "outputs": [
    {
     "data": {
      "text/plain": [
       "Número de Inscrição    0\n",
       "Data de Nascimento     0\n",
       "Data de Inscrição      0\n",
       "Cidade                 0\n",
       "Estado                 0\n",
       "Sexo                   0\n",
       "Deficiência            0\n",
       "Nome                   0\n",
       "Sobrenome              0\n",
       "Escolaridade           0\n",
       "dtype: int64"
      ]
     },
     "execution_count": 184,
     "metadata": {},
     "output_type": "execute_result"
    }
   ],
   "source": [
    "df_concurso.isna().sum()"
   ]
  },
  {
   "cell_type": "code",
   "execution_count": null,
   "metadata": {},
   "outputs": [],
   "source": []
  }
 ],
 "metadata": {
  "colab": {
   "provenance": []
  },
  "kernelspec": {
   "display_name": "Python 3 (ipykernel)",
   "language": "python",
   "name": "python3"
  },
  "language_info": {
   "codemirror_mode": {
    "name": "ipython",
    "version": 3
   },
   "file_extension": ".py",
   "mimetype": "text/x-python",
   "name": "python",
   "nbconvert_exporter": "python",
   "pygments_lexer": "ipython3",
   "version": "3.9.18"
  }
 },
 "nbformat": 4,
 "nbformat_minor": 4
}
